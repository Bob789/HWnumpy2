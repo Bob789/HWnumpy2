{
 "cells": [
  {
   "cell_type": "code",
   "execution_count": 14,
   "id": "94cf5dc0-6f40-498f-9906-ccb2f9dfdf8a",
   "metadata": {},
   "outputs": [
    {
     "data": {
      "text/plain": [
       "array([ 1,  2,  3,  4,  5,  6,  7,  8,  9, 10, 11, 12, 13, 14, 15, 16])"
      ]
     },
     "metadata": {},
     "output_type": "display_data"
    },
    {
     "data": {
      "text/plain": [
       "array([[ 1,  2,  3,  4],\n",
       "       [ 5,  6,  7,  8],\n",
       "       [ 9, 10, 11, 12],\n",
       "       [13, 14, 15, 16]])"
      ]
     },
     "execution_count": 14,
     "metadata": {},
     "output_type": "execute_result"
    }
   ],
   "source": [
    "#solution 1 Creating Arrays and Reshaping\n",
    "import numpy as np\n",
    "from IPython.display import display\n",
    "\n",
    "num16= np.arange(1, 17)\n",
    "display(num16)\n",
    "num16.reshape(4, 4)  # same size"
   ]
  },
  {
   "cell_type": "code",
   "execution_count": 24,
   "id": "1eca3601-8fb6-4468-8be6-c5a89f79f39c",
   "metadata": {},
   "outputs": [
    {
     "data": {
      "text/plain": [
       "array([10, 15, 20, 25, 30, 35, 40, 45, 50])"
      ]
     },
     "metadata": {},
     "output_type": "display_data"
    },
    {
     "data": {
      "text/plain": [
       "array([[10, 15, 20],\n",
       "       [25, 30, 35],\n",
       "       [40, 45, 50]])"
      ]
     },
     "execution_count": 24,
     "metadata": {},
     "output_type": "execute_result"
    }
   ],
   "source": [
    "#solution 2 Using reshape and arange\n",
    "num10_50 = np.arange(10, 51, 5)\n",
    "display(num10_50)\n",
    "num10_50.reshape(3, 3)# ValueError: cannot reshape array of size 9 into shape (2,4)"
   ]
  },
  {
   "cell_type": "code",
   "execution_count": 39,
   "id": "2780092e-206a-4428-bbdb-2ba007097f03",
   "metadata": {},
   "outputs": [
    {
     "name": "stdout",
     "output_type": "stream",
     "text": [
      "[[100  91  16]\n",
      " [ 96  29  91]\n",
      " [ 10  21  76]]\n",
      "Max Value: 100\n",
      "Min Value: 10\n"
     ]
    }
   ],
   "source": [
    "#solution3 Working with randint\n",
    "np.random.seed(20)\n",
    "rand_array = np.random.randint(1, 101, (3, 3))\n",
    "print(rand_array)\n",
    "\n",
    "max_value = np.max(rand_array)\n",
    "min_value = np.min(rand_array)\n",
    "\n",
    "print(f\"Max Value: {max_value}\")\n",
    "print(f\"Min Value: {min_value}\")\n"
   ]
  },
  {
   "cell_type": "code",
   "execution_count": 51,
   "id": "974f7100-f041-4422-86bf-62249a296d50",
   "metadata": {},
   "outputs": [
    {
     "name": "stdout",
     "output_type": "stream",
     "text": [
      "[ 3 15  9 20 11  7  2  0  8 19]\n",
      "5 First value [ 3 15  9 20 11] \n",
      "array in step 2 [ 3  9 11  2  8]\n",
      "array in reverse [19  8  0  2  7 11 20  9 15  3]\n"
     ]
    }
   ],
   "source": [
    "#solution4 Slicing Operations\n",
    "np.random.seed(20)  # \n",
    "array = np.random.randint(0, 21, 10)\n",
    "print(array)\n",
    "print(f\"5 First value {array[:5]} \")\n",
    "print(f\"array in step 2 {array[::2]}\")\n",
    "print(f\"array in reverse {array[::-1]}\")\n"
   ]
  },
  {
   "cell_type": "code",
   "execution_count": 67,
   "id": "7bed7b92-4ac3-434a-ac3a-77bf57494501",
   "metadata": {},
   "outputs": [
    {
     "name": "stdout",
     "output_type": "stream",
     "text": [
      "[[36 27 16 32 29]\n",
      " [27 10 21 12 23]\n",
      " [ 8 35 33 41 22]\n",
      " [27 27 20 17 39]]\n",
      "\n",
      " line 2 [27 10 21 12 23], column num 4 [32 12 41 17]\n"
     ]
    }
   ],
   "source": [
    "#solution 5 Slicing from a 2D Array\n",
    "np.random.seed(20)\n",
    "rand_array1_50 = np.random.randint(1, 51, (4, 5))\n",
    "print(rand_array1_50)\n",
    "print()\n",
    "print(f\" line 2 {rand_array1_50[1]}, column num 4 {rand_array1_50[:, 3]}\")\n"
   ]
  },
  {
   "cell_type": "code",
   "execution_count": 85,
   "id": "9e12916e-1e17-470c-86ec-e583bfb8d131",
   "metadata": {},
   "outputs": [
    {
     "data": {
      "text/plain": [
       "array([69,  2, 57, 23, 95, 25, 41,  9, 66, 15, 65, 30, 88, 49, 40],\n",
       "      dtype=int32)"
      ]
     },
     "metadata": {},
     "output_type": "display_data"
    },
    {
     "name": "stdout",
     "output_type": "stream",
     "text": [
      "max 95\n",
      "min 2\n",
      "argmax 4\n",
      "argmin 1\n"
     ]
    }
   ],
   "source": [
    "#solution6\n",
    "nums15= np.random.randint(0, 101,(15))\n",
    "display(nums15)\n",
    "copy_orig = nums15.copy()\n",
    "print('max', copy_orig.max())  # max\n",
    "print('min', copy_orig.min())  # min\n",
    "print('argmax', copy_orig.argmax())\n",
    "print('argmin', copy_orig.argmin())\n"
   ]
  },
  {
   "cell_type": "code",
   "execution_count": 89,
   "id": "4bd984f9-2cc6-4b0f-b109-17776900c1ef",
   "metadata": {},
   "outputs": [],
   "source": [
    "#solution \n",
    "np.save('nums15.npy', nums15)"
   ]
  },
  {
   "cell_type": "code",
   "execution_count": 93,
   "id": "138ad271-3469-48a6-b9de-db768c678e8d",
   "metadata": {},
   "outputs": [
    {
     "name": "stdout",
     "output_type": "stream",
     "text": [
      "[69  2 57 23 95 25 41  9 66 15 65 30 88 49 40]\n",
      "[95 25 15 65 30 40]\n"
     ]
    }
   ],
   "source": [
    "newarray15 = np.load('nums15.npy')\n",
    "print(newarray15)\n",
    "n15 = newarray15.copy()\n",
    "n15 = n15[(n15 % 5 == 0)]\n",
    "print(n15)"
   ]
  },
  {
   "cell_type": "code",
   "execution_count": 103,
   "id": "3bae3c36-be2c-498e-b8cf-1f2965b9c5dc",
   "metadata": {},
   "outputs": [
    {
     "name": "stdout",
     "output_type": "stream",
     "text": [
      "[69  2 57 23 95 25 41  9 66 15 65 30 88 49 40]\n",
      "[69  2 57 95  9 66 65 88]\n"
     ]
    }
   ],
   "source": [
    "ay_b50_s10 = newarray15.copy()\n",
    "print(ay_b50_s10)\n",
    "ay_b50_s10 = ay_b50_s10[(ay_b50_s10 > 50) | (ay_b50_s10 < 10)]\n",
    "print(ay_b50_s10)"
   ]
  },
  {
   "cell_type": "code",
   "execution_count": null,
   "id": "311ec48d-ec1f-4b6a-b173-b8e320159178",
   "metadata": {},
   "outputs": [],
   "source": []
  }
 ],
 "metadata": {
  "kernelspec": {
   "display_name": "Python 3.12",
   "language": "python",
   "name": "python312"
  },
  "language_info": {
   "codemirror_mode": {
    "name": "ipython",
    "version": 3
   },
   "file_extension": ".py",
   "mimetype": "text/x-python",
   "name": "python",
   "nbconvert_exporter": "python",
   "pygments_lexer": "ipython3",
   "version": "3.12.7"
  }
 },
 "nbformat": 4,
 "nbformat_minor": 5
}
